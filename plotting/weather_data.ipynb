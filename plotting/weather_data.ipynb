{
 "cells": [
  {
   "cell_type": "code",
   "execution_count": 1,
   "metadata": {},
   "outputs": [],
   "source": [
    "import pandas as pd\n",
    "import matplotlib.pyplot as plt\n",
    "import numpy as np\n",
    "import requests\n",
    "import gmaps\n",
    "import os\n",
    "from api_keys import g_key\n",
    "from api_keys import weather_api_key"
   ]
  },
  {
   "cell_type": "code",
   "execution_count": 2,
   "metadata": {},
   "outputs": [
    {
     "name": "stderr",
     "output_type": "stream",
     "text": [
      "/Applications/anaconda3/lib/python3.7/site-packages/ipykernel_launcher.py:4: SettingWithCopyWarning: \n",
      "A value is trying to be set on a copy of a slice from a DataFrame.\n",
      "Try using .loc[row_indexer,col_indexer] = value instead\n",
      "\n",
      "See the caveats in the documentation: https://pandas.pydata.org/pandas-docs/stable/user_guide/indexing.html#returning-a-view-versus-a-copy\n",
      "  after removing the cwd from sys.path.\n"
     ]
    },
    {
     "data": {
      "text/html": [
       "<div>\n",
       "<style scoped>\n",
       "    .dataframe tbody tr th:only-of-type {\n",
       "        vertical-align: middle;\n",
       "    }\n",
       "\n",
       "    .dataframe tbody tr th {\n",
       "        vertical-align: top;\n",
       "    }\n",
       "\n",
       "    .dataframe thead th {\n",
       "        text-align: right;\n",
       "    }\n",
       "</style>\n",
       "<table border=\"1\" class=\"dataframe\">\n",
       "  <thead>\n",
       "    <tr style=\"text-align: right;\">\n",
       "      <th></th>\n",
       "      <th>FL_DATE</th>\n",
       "      <th>ORIGIN</th>\n",
       "      <th>DEST</th>\n",
       "      <th>DEST_CITY_NAME</th>\n",
       "    </tr>\n",
       "  </thead>\n",
       "  <tbody>\n",
       "    <tr>\n",
       "      <th>15</th>\n",
       "      <td>2020-01-31</td>\n",
       "      <td>CLE</td>\n",
       "      <td>ATL</td>\n",
       "      <td>Atlanta, GA</td>\n",
       "    </tr>\n",
       "    <tr>\n",
       "      <th>16</th>\n",
       "      <td>2020-01-31</td>\n",
       "      <td>CLE</td>\n",
       "      <td>BNA</td>\n",
       "      <td>Nashville, TN</td>\n",
       "    </tr>\n",
       "    <tr>\n",
       "      <th>17</th>\n",
       "      <td>2020-01-31</td>\n",
       "      <td>CLE</td>\n",
       "      <td>BNA</td>\n",
       "      <td>Nashville, TN</td>\n",
       "    </tr>\n",
       "    <tr>\n",
       "      <th>18</th>\n",
       "      <td>2020-01-31</td>\n",
       "      <td>CLE</td>\n",
       "      <td>BWI</td>\n",
       "      <td>Baltimore, MD</td>\n",
       "    </tr>\n",
       "    <tr>\n",
       "      <th>19</th>\n",
       "      <td>2020-01-31</td>\n",
       "      <td>CLE</td>\n",
       "      <td>BWI</td>\n",
       "      <td>Baltimore, MD</td>\n",
       "    </tr>\n",
       "    <tr>\n",
       "      <th>...</th>\n",
       "      <td>...</td>\n",
       "      <td>...</td>\n",
       "      <td>...</td>\n",
       "      <td>...</td>\n",
       "    </tr>\n",
       "    <tr>\n",
       "      <th>22532</th>\n",
       "      <td>2020-03-11</td>\n",
       "      <td>CLE</td>\n",
       "      <td>ORD</td>\n",
       "      <td>Chicago, IL</td>\n",
       "    </tr>\n",
       "    <tr>\n",
       "      <th>22534</th>\n",
       "      <td>2020-03-11</td>\n",
       "      <td>CLE</td>\n",
       "      <td>DEN</td>\n",
       "      <td>Denver, CO</td>\n",
       "    </tr>\n",
       "    <tr>\n",
       "      <th>22536</th>\n",
       "      <td>2020-03-11</td>\n",
       "      <td>CLE</td>\n",
       "      <td>ORD</td>\n",
       "      <td>Chicago, IL</td>\n",
       "    </tr>\n",
       "    <tr>\n",
       "      <th>22537</th>\n",
       "      <td>2020-03-11</td>\n",
       "      <td>CLE</td>\n",
       "      <td>SFO</td>\n",
       "      <td>San Francisco, CA</td>\n",
       "    </tr>\n",
       "    <tr>\n",
       "      <th>22538</th>\n",
       "      <td>2020-03-11</td>\n",
       "      <td>CLE</td>\n",
       "      <td>ORD</td>\n",
       "      <td>Chicago, IL</td>\n",
       "    </tr>\n",
       "  </tbody>\n",
       "</table>\n",
       "<p>11267 rows × 4 columns</p>\n",
       "</div>"
      ],
      "text/plain": [
       "          FL_DATE ORIGIN DEST     DEST_CITY_NAME\n",
       "15     2020-01-31    CLE  ATL        Atlanta, GA\n",
       "16     2020-01-31    CLE  BNA      Nashville, TN\n",
       "17     2020-01-31    CLE  BNA      Nashville, TN\n",
       "18     2020-01-31    CLE  BWI      Baltimore, MD\n",
       "19     2020-01-31    CLE  BWI      Baltimore, MD\n",
       "...           ...    ...  ...                ...\n",
       "22532  2020-03-11    CLE  ORD        Chicago, IL\n",
       "22534  2020-03-11    CLE  DEN         Denver, CO\n",
       "22536  2020-03-11    CLE  ORD        Chicago, IL\n",
       "22537  2020-03-11    CLE  SFO  San Francisco, CA\n",
       "22538  2020-03-11    CLE  ORD        Chicago, IL\n",
       "\n",
       "[11267 rows x 4 columns]"
      ]
     },
     "execution_count": 2,
     "metadata": {},
     "output_type": "execute_result"
    }
   ],
   "source": [
    "total_2020=pd.read_csv(\"../cleaned_csvs/cle_flights_2020.csv\", parse_dates=[\"FL_DATE\"])\n",
    "data_2020_reduced=total_2020[[\"FL_DATE\", \"ORIGIN\", \"DEST\", \"DEST_CITY_NAME\"]]\n",
    "data_2020_departures=data_2020_reduced.loc[data_2020_reduced[\"ORIGIN\"]==\"CLE\"]\n",
    "data_2020_departures['FL_DATE'] = pd.to_datetime(data_2020_departures['FL_DATE']).dt.date\n",
    "data_2020_departures"
   ]
  },
  {
   "cell_type": "code",
   "execution_count": null,
   "metadata": {},
   "outputs": [],
   "source": []
  },
  {
   "cell_type": "code",
   "execution_count": 5,
   "metadata": {},
   "outputs": [],
   "source": [
    "import time\n",
    "mean_temp=[]\n",
    "mean_wind=[]\n",
    "mean_precip=[]\n",
    "mean_clouds=[] \n",
    "\n",
    "for index, row in data_2020_departures.head(10).iterrows():\n",
    "    city=row[\"DEST_CITY_NAME\"].split(\"/\",)\n",
    "    date=row[\"FL_DATE\"]\n",
    "    response = requests.get(f\"http://api.worldweatheronline.com/premium/v1/past-weather.ashx?key=b569a70f43cc4efc9f602629202306&q={city[0]}&format=json&date={date}\").json()\n",
    "    try:\n",
    "        mean_temp.append(response[\"data\"][\"weather\"][0][\"avgtempF\"])\n",
    "        #mean_wind.append(response[\"data\"][\"weather\"][0][\"hourly\"][0][\"WindGustMiles\"])\n",
    "        #mean_precip.append(response[\"data\"][\"weather\"][0][\"hourly\"][0][\"precipInches\"])\n",
    "        #mean_clouds.append(response[\"data\"][\"weather\"][0][\"hourly\"][0][\"cloudcover\"])  \n",
    "    except:\n",
    "       pass\n",
    "    #time.sleep(5)"
   ]
  },
  {
   "cell_type": "code",
   "execution_count": 6,
   "metadata": {},
   "outputs": [
    {
     "data": {
      "text/plain": [
       "[]"
      ]
     },
     "execution_count": 6,
     "metadata": {},
     "output_type": "execute_result"
    }
   ],
   "source": [
    "mean_temp"
   ]
  },
  {
   "cell_type": "code",
   "execution_count": 138,
   "metadata": {},
   "outputs": [],
   "source": [
    "cle_temp=[]\n",
    "for index, row in data_2020_departures.head().iterrows():\n",
    "    date=row[\"FL_DATE\"]\n",
    "    response = requests.get(f\"http://api.worldweatheronline.com/premium/v1/past-weather.ashx?key=b569a70f43cc4efc9f602629202306&q=Cleveland&format=json&date={date}\").json()\n",
    "    cle_temp.append(response[\"data\"][\"weather\"][0][\"avgtempF\"])"
   ]
  },
  {
   "cell_type": "code",
   "execution_count": 139,
   "metadata": {},
   "outputs": [
    {
     "data": {
      "text/plain": [
       "['44', '36', '33', '34', '28']"
      ]
     },
     "execution_count": 139,
     "metadata": {},
     "output_type": "execute_result"
    }
   ],
   "source": [
    "cle_temp"
   ]
  },
  {
   "cell_type": "code",
   "execution_count": null,
   "metadata": {},
   "outputs": [],
   "source": [
    "data_total_departures[\"DEST_TEMP\"]=mean_temp"
   ]
  },
  {
   "cell_type": "code",
   "execution_count": 118,
   "metadata": {},
   "outputs": [
    {
     "data": {
      "text/plain": [
       "{'data': {'error': [{'msg': 'API key is invalid.'}]}}"
      ]
     },
     "execution_count": 118,
     "metadata": {},
     "output_type": "execute_result"
    }
   ],
   "source": []
  },
  {
   "cell_type": "code",
   "execution_count": null,
   "metadata": {},
   "outputs": [],
   "source": []
  }
 ],
 "metadata": {
  "kernelspec": {
   "display_name": "Python 3",
   "language": "python",
   "name": "python3"
  },
  "language_info": {
   "codemirror_mode": {
    "name": "ipython",
    "version": 3
   },
   "file_extension": ".py",
   "mimetype": "text/x-python",
   "name": "python",
   "nbconvert_exporter": "python",
   "pygments_lexer": "ipython3",
   "version": "3.7.6"
  }
 },
 "nbformat": 4,
 "nbformat_minor": 4
}
