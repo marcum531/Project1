{
 "cells": [
  {
   "cell_type": "code",
   "execution_count": 1,
   "metadata": {},
   "outputs": [],
   "source": [
    "import pandas as pd\n",
    "import matplotlib.pyplot as plt\n",
    "import numpy as np\n",
    "import requests\n",
    "import gmaps\n",
    "import os\n",
    "from api_keys import g_key\n",
    "from api_keys import weather_api_key"
   ]
  },
  {
   "cell_type": "code",
   "execution_count": 2,
   "metadata": {},
   "outputs": [
    {
     "name": "stderr",
     "output_type": "stream",
     "text": [
      "/Applications/anaconda3/lib/python3.7/site-packages/ipykernel_launcher.py:4: SettingWithCopyWarning: \n",
      "A value is trying to be set on a copy of a slice from a DataFrame.\n",
      "Try using .loc[row_indexer,col_indexer] = value instead\n",
      "\n",
      "See the caveats in the documentation: https://pandas.pydata.org/pandas-docs/stable/user_guide/indexing.html#returning-a-view-versus-a-copy\n",
      "  after removing the cwd from sys.path.\n"
     ]
    },
    {
     "data": {
      "text/html": [
       "<div>\n",
       "<style scoped>\n",
       "    .dataframe tbody tr th:only-of-type {\n",
       "        vertical-align: middle;\n",
       "    }\n",
       "\n",
       "    .dataframe tbody tr th {\n",
       "        vertical-align: top;\n",
       "    }\n",
       "\n",
       "    .dataframe thead th {\n",
       "        text-align: right;\n",
       "    }\n",
       "</style>\n",
       "<table border=\"1\" class=\"dataframe\">\n",
       "  <thead>\n",
       "    <tr style=\"text-align: right;\">\n",
       "      <th></th>\n",
       "      <th>FL_DATE</th>\n",
       "      <th>ORIGIN</th>\n",
       "      <th>DEST</th>\n",
       "      <th>DEST_CITY_NAME</th>\n",
       "    </tr>\n",
       "  </thead>\n",
       "  <tbody>\n",
       "    <tr>\n",
       "      <th>15</th>\n",
       "      <td>2020-01-31</td>\n",
       "      <td>CLE</td>\n",
       "      <td>ATL</td>\n",
       "      <td>Atlanta, GA</td>\n",
       "    </tr>\n",
       "    <tr>\n",
       "      <th>16</th>\n",
       "      <td>2020-01-31</td>\n",
       "      <td>CLE</td>\n",
       "      <td>BNA</td>\n",
       "      <td>Nashville, TN</td>\n",
       "    </tr>\n",
       "    <tr>\n",
       "      <th>17</th>\n",
       "      <td>2020-01-31</td>\n",
       "      <td>CLE</td>\n",
       "      <td>BNA</td>\n",
       "      <td>Nashville, TN</td>\n",
       "    </tr>\n",
       "    <tr>\n",
       "      <th>18</th>\n",
       "      <td>2020-01-31</td>\n",
       "      <td>CLE</td>\n",
       "      <td>BWI</td>\n",
       "      <td>Baltimore, MD</td>\n",
       "    </tr>\n",
       "    <tr>\n",
       "      <th>19</th>\n",
       "      <td>2020-01-31</td>\n",
       "      <td>CLE</td>\n",
       "      <td>BWI</td>\n",
       "      <td>Baltimore, MD</td>\n",
       "    </tr>\n",
       "    <tr>\n",
       "      <th>...</th>\n",
       "      <td>...</td>\n",
       "      <td>...</td>\n",
       "      <td>...</td>\n",
       "      <td>...</td>\n",
       "    </tr>\n",
       "    <tr>\n",
       "      <th>22532</th>\n",
       "      <td>2020-03-11</td>\n",
       "      <td>CLE</td>\n",
       "      <td>ORD</td>\n",
       "      <td>Chicago, IL</td>\n",
       "    </tr>\n",
       "    <tr>\n",
       "      <th>22534</th>\n",
       "      <td>2020-03-11</td>\n",
       "      <td>CLE</td>\n",
       "      <td>DEN</td>\n",
       "      <td>Denver, CO</td>\n",
       "    </tr>\n",
       "    <tr>\n",
       "      <th>22536</th>\n",
       "      <td>2020-03-11</td>\n",
       "      <td>CLE</td>\n",
       "      <td>ORD</td>\n",
       "      <td>Chicago, IL</td>\n",
       "    </tr>\n",
       "    <tr>\n",
       "      <th>22537</th>\n",
       "      <td>2020-03-11</td>\n",
       "      <td>CLE</td>\n",
       "      <td>SFO</td>\n",
       "      <td>San Francisco, CA</td>\n",
       "    </tr>\n",
       "    <tr>\n",
       "      <th>22538</th>\n",
       "      <td>2020-03-11</td>\n",
       "      <td>CLE</td>\n",
       "      <td>ORD</td>\n",
       "      <td>Chicago, IL</td>\n",
       "    </tr>\n",
       "  </tbody>\n",
       "</table>\n",
       "<p>11267 rows × 4 columns</p>\n",
       "</div>"
      ],
      "text/plain": [
       "          FL_DATE ORIGIN DEST     DEST_CITY_NAME\n",
       "15     2020-01-31    CLE  ATL        Atlanta, GA\n",
       "16     2020-01-31    CLE  BNA      Nashville, TN\n",
       "17     2020-01-31    CLE  BNA      Nashville, TN\n",
       "18     2020-01-31    CLE  BWI      Baltimore, MD\n",
       "19     2020-01-31    CLE  BWI      Baltimore, MD\n",
       "...           ...    ...  ...                ...\n",
       "22532  2020-03-11    CLE  ORD        Chicago, IL\n",
       "22534  2020-03-11    CLE  DEN         Denver, CO\n",
       "22536  2020-03-11    CLE  ORD        Chicago, IL\n",
       "22537  2020-03-11    CLE  SFO  San Francisco, CA\n",
       "22538  2020-03-11    CLE  ORD        Chicago, IL\n",
       "\n",
       "[11267 rows x 4 columns]"
      ]
     },
     "execution_count": 2,
     "metadata": {},
     "output_type": "execute_result"
    }
   ],
   "source": [
    "total_2020=pd.read_csv(\"../cleaned_csvs/cle_flights_2020.csv\", parse_dates=[\"FL_DATE\"])\n",
    "data_2020_reduced=total_2020[[\"FL_DATE\", \"ORIGIN\", \"DEST\", \"DEST_CITY_NAME\"]]\n",
    "data_2020_departures=data_2020_reduced.loc[data_2020_reduced[\"ORIGIN\"]==\"CLE\"]\n",
    "data_2020_departures['FL_DATE'] = pd.to_datetime(data_2020_departures['FL_DATE']).dt.date\n",
    "data_2020_departures"
   ]
  },
  {
   "cell_type": "code",
   "execution_count": 3,
   "metadata": {},
   "outputs": [
    {
     "data": {
      "text/plain": [
       "91"
      ]
     },
     "execution_count": 3,
     "metadata": {},
     "output_type": "execute_result"
    }
   ],
   "source": [
    "data_2020_departures[\"DEST\"].value_counts()[0:5]\n",
    "top_dest=data_2020_departures.loc[(data_2020_departures[\"DEST\"]==\"ORD\") | (data_2020_departures[\"DEST\"]==\"LGA\") |\n",
    "                                  (data_2020_departures[\"DEST\"]==\"ATL\") | (data_2020_departures[\"DEST\"]==\"CLT\") |\n",
    "                                  (data_2020_departures[\"DEST\"]==\"BOS\"), :]\n",
    "len(top_dest[\"FL_DATE\"].unique())\n",
    "\n",
    "                                  "
   ]
  },
  {
   "cell_type": "code",
   "execution_count": 16,
   "metadata": {},
   "outputs": [],
   "source": [
    "import time\n",
    "mean_temp=[] \n",
    "dates=[]\n",
    "cities=[]\n",
    "cities_final=[]\n",
    "dates_final=[]\n",
    "for index, row in top_dest.iterrows():\n",
    "    city=row[\"DEST_CITY_NAME\"].split(\"/\",)\n",
    "    date=row[\"FL_DATE\"]\n",
    "    if city not in cities:\n",
    "        cities.append(city)\n",
    "    if date not in dates: \n",
    "        dates.append(date)\n",
    "\n",
    "for city in cities:\n",
    "    for date in dates: \n",
    "        response = requests.get(f\"http://api.worldweatheronline.com/premium/v1/past-weather.ashx?key={weather_api_key}&q={city[0]}&format=json&date={date}\").json()\n",
    "        cities_final.append(city)\n",
    "        dates_final.append(date)\n",
    "        mean_temp.append(response[\"data\"][\"weather\"][0][\"avgtempF\"]) "
   ]
  },
  {
   "cell_type": "code",
   "execution_count": 17,
   "metadata": {},
   "outputs": [],
   "source": [
    "temp_df=pd.DataFrame({\"CITY\":cities_final,\"DATE\":dates_final,\"TEMP\":mean_temp})"
   ]
  },
  {
   "cell_type": "code",
   "execution_count": 138,
   "metadata": {},
   "outputs": [],
   "source": [
    "cle_temp=[]\n",
    "for index, row in data_2020_departures.head().iterrows():\n",
    "    date=row[\"FL_DATE\"]\n",
    "    response = requests.get(f\"http://api.worldweatheronline.com/premium/v1/past-weather.ashx?key=b569a70f43cc4efc9f602629202306&q=Cleveland&format=json&date={date}\").json()\n",
    "    cle_temp.append(response[\"data\"][\"weather\"][0][\"avgtempF\"])"
   ]
  },
  {
   "cell_type": "code",
   "execution_count": 29,
   "metadata": {},
   "outputs": [
    {
     "data": {
      "text/plain": [
       "<matplotlib.axes._subplots.AxesSubplot at 0x11c135b50>"
      ]
     },
     "execution_count": 29,
     "metadata": {},
     "output_type": "execute_result"
    },
    {
     "data": {
      "image/png": "[encoded data removed]",
      "text/plain": [
       "<Figure size 720x720 with 1 Axes>"
      ]
     },
     "metadata": {
      "needs_background": "light"
     },
     "output_type": "display_data"
    }
   ],
   "source": [
    "temp_df.plot(x=\"DATE\", y=\"TEMP\", kind=\"scatter\", figsize=(10,10))"
   ]
  },
  {
   "cell_type": "code",
   "execution_count": 25,
   "metadata": {},
   "outputs": [
    {
     "name": "stdout",
     "output_type": "stream",
     "text": [
      "The lower quartile of temperatures is: 37.0\n",
      "The upper quartile of temperatures is: 52.0\n",
      "The interquartile range of temperatures is: 15.0\n",
      "The the median of temperatures is: 44.0 \n",
      "Values below 14.5 could be outliers.\n",
      "Values above 74.5 could be outliers.\n"
     ]
    }
   ],
   "source": [
    "\n",
    "temp=temp_df[\"TEMP\"].astype(int)\n",
    "quartiles = temp.quantile([.25,.5,.75])\n",
    "lowerq = quartiles[0.25]\n",
    "upperq = quartiles[0.75]\n",
    "iqr = upperq-lowerq\n",
    "\n",
    "print(f\"The lower quartile of temperatures is: {lowerq}\")\n",
    "print(f\"The upper quartile of temperatures is: {upperq}\")\n",
    "print(f\"The interquartile range of temperatures is: {iqr}\")\n",
    "print(f\"The the median of temperatures is: {quartiles[0.5]} \")\n",
    "\n",
    "lower_bound = lowerq - (1.5*iqr)\n",
    "upper_bound = upperq + (1.5*iqr)\n",
    "print(f\"Values below {lower_bound} could be outliers.\")\n",
    "print(f\"Values above {upper_bound} could be outliers.\")"
   ]
  },
  {
   "cell_type": "code",
   "execution_count": 35,
   "metadata": {},
   "outputs": [
    {
     "data": {
      "image/png": "[encoded data removed]",
      "text/plain": [
       "<Figure size 432x288 with 1 Axes>"
      ]
     },
     "metadata": {
      "needs_background": "light"
     },
     "output_type": "display_data"
    }
   ],
   "source": [
    "temp=temp_df[\"TEMP\"].astype(int)\n",
    "fig1, ax1 = plt.subplots()\n",
    "ax1.set_ylabel('Destination Temperature')\n",
    "ax1.boxplot(temp)\n",
    "plt.show()"
   ]
  },
  {
   "cell_type": "code",
   "execution_count": null,
   "metadata": {},
   "outputs": [],
   "source": []
  }
 ],
 "metadata": {
  "kernelspec": {
   "display_name": "Python 3",
   "language": "python",
   "name": "python3"
  },
  "language_info": {
   "codemirror_mode": {
    "name": "ipython",
    "version": 3
   },
   "file_extension": ".py",
   "mimetype": "text/x-python",
   "name": "python",
   "nbconvert_exporter": "python",
   "pygments_lexer": "ipython3",
   "version": "3.7.6"
  }
 },
 "nbformat": 4,
 "nbformat_minor": 4
}
