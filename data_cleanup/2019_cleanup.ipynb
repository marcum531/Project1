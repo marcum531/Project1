{
 "cells": [
  {
   "cell_type": "code",
   "execution_count": 1,
   "metadata": {},
   "outputs": [],
   "source": [
    "import pandas as pd"
   ]
  },
  {
   "cell_type": "code",
   "execution_count": 5,
   "metadata": {},
   "outputs": [],
   "source": [
    "# merging and cleaning data so that it shows only cleveland flights \n",
    "jan_2019=\"../flight_csv_files/Jan_2019.csv\"\n",
    "feb_2019=\"../flight_csv_files/Feb_2019.csv\"\n",
    "mar_2019=\"../flight_csv_files/Mar_2019.csv\"\n",
    "apr_2019=\"../flight_csv_files/Apr_2019.csv\"\n",
    "may_2019=\"../flight_csv_files/May_2019.csv\"\n",
    "jun_2019=\"../flight_csv_files/Jun_2019.csv\"\n",
    "jul_2019=\"../flight_csv_files/Jul_2019.csv\"\n",
    "aug_2019=\"../flight_csv_files/Aug_2019.csv\"\n",
    "sep_2019=\"../flight_csv_files/Sep_2019.csv\"\n",
    "oct_2019=\"../flight_csv_files/Oct_2019.csv\"\n",
    "nov_2019=\"../flight_csv_files/Nov_2019.csv\"\n",
    "dec_2019=\"../flight_csv_files/Dec_2019.csv\""
   ]
  },
  {
   "cell_type": "code",
   "execution_count": 6,
   "metadata": {},
   "outputs": [],
   "source": [
    "jan_2019_data=pd.read_csv(jan_2019)\n",
    "feb_2019_data=pd.read_csv(feb_2019)\n",
    "mar_2019_data=pd.read_csv(mar_2019)\n",
    "apr_2019_data=pd.read_csv(apr_2019)\n",
    "may_2019_data=pd.read_csv(may_2019)\n",
    "jun_2019_data=pd.read_csv(jun_2019)\n",
    "jul_2019_data=pd.read_csv(jul_2019)\n",
    "aug_2019_data=pd.read_csv(aug_2019)\n",
    "sep_2019_data=pd.read_csv(sep_2019)\n",
    "oct_2019_data=pd.read_csv(oct_2019)\n",
    "nov_2019_data=pd.read_csv(nov_2019)\n",
    "dec_2019_data=pd.read_csv(dec_2019)"
   ]
  },
  {
   "cell_type": "code",
   "execution_count": 18,
   "metadata": {},
   "outputs": [],
   "source": [
    "jan_feb_2019=jan_2019_data.append(feb_2019_data)\n",
    "feb_mar_2019=jan_feb_2019.append(mar_2019_data)\n",
    "mar_apr_2019=feb_mar_2019.append(apr_2019_data)\n",
    "apr_may_2019=mar_apr_2019.append(may_2019_data)\n",
    "may_jun_2019=apr_may_2019.append(jun_2019_data)\n",
    "jun_jul_2019=may_jun_2019.append(jul_2019_data)\n",
    "jul_aug_2019=jun_jul_2019.append(aug_2019_data)\n",
    "aug_sep_2019=jul_aug_2019.append(sep_2019_data)\n",
    "sep_oct_2019=aug_sep_2019.append(oct_2019_data)\n",
    "oct_nov_2019=sep_oct_2019.append(nov_2019_data)\n",
    "data_2019=oct_nov_2019.append(dec_2019_data)"
   ]
  },
  {
   "cell_type": "code",
   "execution_count": 22,
   "metadata": {},
   "outputs": [
    {
     "data": {
      "text/plain": [
       "FL_DATE                99228\n",
       "OP_UNIQUE_CARRIER      99228\n",
       "ORIGIN                 99228\n",
       "ORIGIN_CITY_NAME       99228\n",
       "DEST                   99228\n",
       "DEST_CITY_NAME         99228\n",
       "CRS_DEP_TIME           99228\n",
       "DEP_DELAY              97186\n",
       "DEP_DELAY_NEW          97186\n",
       "ARR_TIME               97088\n",
       "ARR_DELAY              96918\n",
       "ARR_DELAY_NEW          96918\n",
       "CANCELLED              99228\n",
       "CARRIER_DELAY          17779\n",
       "WEATHER_DELAY          17779\n",
       "NAS_DELAY              17779\n",
       "SECURITY_DELAY         17779\n",
       "LATE_AIRCRAFT_DELAY    17779\n",
       "Unnamed: 18                0\n",
       "dtype: int64"
      ]
     },
     "execution_count": 22,
     "metadata": {},
     "output_type": "execute_result"
    }
   ],
   "source": [
    "data_2019_cle=data_2019.loc[(data_2019[\"ORIGIN\"]==\"CLE\")|(data_2019[\"DEST\"]==\"CLE\")]\n",
    "data_2019_cle.count()"
   ]
  },
  {
   "cell_type": "code",
   "execution_count": 26,
   "metadata": {},
   "outputs": [],
   "source": [
    "output=\"../cleaned_csvs/2019_data.csv\"\n",
    "data_2019_cle.to_csv(output)"
   ]
  },
  {
   "cell_type": "code",
   "execution_count": null,
   "metadata": {},
   "outputs": [],
   "source": []
  }
 ],
 "metadata": {
  "kernelspec": {
   "display_name": "Python 3",
   "language": "python",
   "name": "python3"
  },
  "language_info": {
   "codemirror_mode": {
    "name": "ipython",
    "version": 3
   },
   "file_extension": ".py",
   "mimetype": "text/x-python",
   "name": "python",
   "nbconvert_exporter": "python",
   "pygments_lexer": "ipython3",
   "version": "3.7.6"
  }
 },
 "nbformat": 4,
 "nbformat_minor": 4
}
