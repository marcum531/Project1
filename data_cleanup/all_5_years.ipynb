{
 "cells": [
  {
   "cell_type": "code",
   "execution_count": 2,
   "metadata": {},
   "outputs": [],
   "source": [
    "import pandas as pd"
   ]
  },
  {
   "cell_type": "code",
   "execution_count": 3,
   "metadata": {},
   "outputs": [],
   "source": [
    "data_2019=pd.read_csv(\"../cleaned_csvs/2019_data.csv\")\n",
    "data_2020=pd.read_csv(\"../cleaned_csvs/cle_flights_2020.csv\")\n",
    "data_2016=pd.read_csv(\"../cleaned_csvs/cle_flights_2016.csv\")\n",
    "data_2017=pd.read_csv(\"../cleaned_csvs/Data_2017.csv\")\n",
    "data_2018=pd.read_csv(\"../cleaned_csvs/Cleveland_2018.csv\")"
   ]
  },
  {
   "cell_type": "code",
   "execution_count": 4,
   "metadata": {},
   "outputs": [],
   "source": [
    "data_total=data_2016.append(data_2017)\n",
    "data_total=data_total.append(data_2018)\n",
    "data_total=data_total.append(data_2019)\n",
    "data_total=data_total.append(data_2020)"
   ]
  },
  {
   "cell_type": "code",
   "execution_count": 5,
   "metadata": {},
   "outputs": [],
   "source": [
    "data_total.to_csv(\"../cleaned_csvs/total_data.csv\")"
   ]
  },
  {
   "cell_type": "code",
   "execution_count": null,
   "metadata": {},
   "outputs": [],
   "source": []
  }
 ],
 "metadata": {
  "kernelspec": {
   "display_name": "Python 3",
   "language": "python",
   "name": "python3"
  },
  "language_info": {
   "codemirror_mode": {
    "name": "ipython",
    "version": 3
   },
   "file_extension": ".py",
   "mimetype": "text/x-python",
   "name": "python",
   "nbconvert_exporter": "python",
   "pygments_lexer": "ipython3",
   "version": "3.7.6"
  }
 },
 "nbformat": 4,
 "nbformat_minor": 4
}
